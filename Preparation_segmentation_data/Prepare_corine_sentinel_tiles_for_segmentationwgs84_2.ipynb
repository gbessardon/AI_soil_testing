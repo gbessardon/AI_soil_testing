{
  "nbformat": 4,
  "nbformat_minor": 0,
  "metadata": {
    "colab": {
      "name": "Prepare_corine_sentinel_tiles_for_segmentationwgs84_2.ipynb",
      "provenance": [],
      "collapsed_sections": [],
      "toc_visible": true,
      "include_colab_link": true
    },
    "kernelspec": {
      "name": "python3",
      "display_name": "Python 3"
    },
    "papermill": {
      "duration": 2498.60854,
      "end_time": "2021-02-17T15:02:20.711780",
      "environment_variables": {},
      "exception": null,
      "input_path": "__notebook__.ipynb",
      "output_path": "__notebook__.ipynb",
      "parameters": {},
      "start_time": "2021-02-17T14:20:42.103240",
      "version": "2.1.0"
    },
    "metadata": {
      "interpreter": {
        "hash": "f3ecb229b9766f3441c5446245874682bc4f86dc9bd183145931bf3d17e27229"
      }
    },
    "language_info": {
      "name": "python"
    }
  },
  "cells": [
    {
      "cell_type": "markdown",
      "metadata": {
        "id": "view-in-github",
        "colab_type": "text"
      },
      "source": [
        "<a href=\"https://colab.research.google.com/github/gbessardon/AI_soil_testing/blob/master/Preparation_segmentation_data/Prepare_corine_sentinel_tiles_for_segmentationwgs84_2.ipynb\" target=\"_parent\"><img src=\"https://colab.research.google.com/assets/colab-badge.svg\" alt=\"Open In Colab\"/></a>"
      ]
    },
    {
      "cell_type": "markdown",
      "metadata": {
        "id": "G_IalRtAFY-H"
      },
      "source": [
        "# Preparation running environment\n",
        "if running on kaggle you need to set the variable kaggleenv to 1"
      ]
    },
    {
      "cell_type": "code",
      "metadata": {
        "id": "WE4y3HWYFiwU"
      },
      "source": [
        "local=0 # 1 means running locally (no kaggle or drive setup)\n",
        "kaggleenv=0 #1 means running in kaggle environement\n",
        "savekaggle=0 #1 means saving on Kaggle whether saving on kaggle or not"
      ],
      "execution_count": 1,
      "outputs": []
    },
    {
      "cell_type": "code",
      "metadata": {
        "id": "cV_C11qwH8Mi"
      },
      "source": [
        "\"\"\"\n",
        "CORINEtxtfile: file containing the corine labels in the original corine files\n",
        "should be in the form \n",
        "$CORINEfolder/u2018_clc2018_v2020_20u1_raster100m/Legend/CLC2018_CLC2018_V2018_20_QGIS.txt\n",
        "\n",
        "cover_definition_directory: directory where the label definition is stored\n",
        "\n",
        "corine_path: folder where corine tiles and sentinel tiles are sorted \n",
        "i.e the output of the previous script\n",
        "\"\"\"\n",
        "\n",
        "CORINEtxtfile='/gdrive/MyDrive/CORINE/u2018_clc2018_v2020_20u1_raster100m/Legend/CLC2018_CLC2018_V2018_20_QGIS.txt' #CORINE2018 file\n",
        "\n",
        "cover_definition_directory='/gdrive/MyDrive/Tertiary_Cover_Types'\n",
        "\n",
        "corine_path = '/gdrive/MyDrive/tilessentinelcorine'\n",
        "\n",
        "savefn= '/gdrive/MyDrive/Segmentsentinelcorine92overlap.zip'\n",
        "\n",
        "resolution=10  # depends on the selected size of the satelitte data"
      ],
      "execution_count": 2,
      "outputs": []
    },
    {
      "cell_type": "code",
      "metadata": {
        "id": "YtJklh8FBpya"
      },
      "source": [
        "import os\n",
        "import shutil"
      ],
      "execution_count": 3,
      "outputs": []
    },
    {
      "cell_type": "code",
      "metadata": {
        "id": "HoDD7EwSCKY2"
      },
      "source": [
        "savedir=os.path.join(os.getcwd(),'temp')\n",
        "if savekaggle==1:\n",
        "  savedir='/kaggle/temp/'\n",
        "  ownername='geoffreybessardon'\n",
        "  datasetslug='segmenteirefiloverlap2020'\n",
        "  datasetTitle='Segment ireland filter 2020'\n",
        "  vnotes='090221v3'"
      ],
      "execution_count": 4,
      "outputs": []
    },
    {
      "cell_type": "code",
      "metadata": {
        "id": "2JLroXefPVmc"
      },
      "source": [
        "sentinel_save_path = os.path.join(savedir,'sentinel')\n",
        "corine_save_path = os.path.join(savedir,'corine')"
      ],
      "execution_count": 5,
      "outputs": []
    },
    {
      "cell_type": "code",
      "metadata": {
        "colab": {
          "base_uri": "https://localhost:8080/"
        },
        "id": "QI7jZicz_6sr",
        "outputId": "333eae6e-740b-4df3-a487-ddd06d12f899"
      },
      "source": [
        "if local==0:\n",
        "    if not os.path.isdir('/kaggle'):\n",
        "      os.mkdir('/kaggle')\n",
        "    if not os.path.isdir('/kaggle/temp'):\n",
        "      os.mkdir('/kaggle/temp')\n",
        "    if 'google.colab' in str(get_ipython()):\n",
        "      print('Running on CoLab')\n",
        "      from google.colab import drive\n",
        "      drive.mount('/gdrive') # link to google drive\n",
        "      # import kaggle account keys\n",
        "      if not os.path.isdir('/root/.kaggle'):\n",
        "        os.mkdir('/root/.kaggle')\n",
        "        shutil.copyfile('/gdrive/MyDrive/kaggle.json','/root/.kaggle/kaggle.json')  \n",
        "        os.chmod('/root/.kaggle/kaggle.json',600)\n",
        "    elif kaggleenv==1:\n",
        "      ## kaggle\n",
        "      if not os.path.isdir('~/.kaggle'):\n",
        "        os.mkdir('~/.kaggle')\n",
        "        shutil.copyfile('/kaggle/input/apitoken/kaggle.json', '~/.kaggle/kaggle.json')    \n",
        "        os.chmod('~/.kaggle/kaggle.json',600)\n",
        "    os.system('pip install -q kaggle')\n",
        "    from kaggle import api\n",
        "    "
      ],
      "execution_count": 6,
      "outputs": [
        {
          "output_type": "stream",
          "text": [
            "Running on CoLab\n",
            "Mounted at /gdrive\n"
          ],
          "name": "stdout"
        }
      ]
    },
    {
      "cell_type": "code",
      "metadata": {
        "execution": {
          "iopub.execute_input": "2021-02-17T14:20:59.218478Z",
          "iopub.status.busy": "2021-02-17T14:20:59.217759Z",
          "iopub.status.idle": "2021-02-17T14:20:59.402146Z",
          "shell.execute_reply": "2021-02-17T14:20:59.401532Z"
        },
        "id": "ZOe4mr9c_Pky",
        "papermill": {
          "duration": 0.209933,
          "end_time": "2021-02-17T14:20:59.402282",
          "exception": false,
          "start_time": "2021-02-17T14:20:59.192349",
          "status": "completed"
        },
        "tags": []
      },
      "source": [
        "import numpy as np\n",
        "import matplotlib.pyplot as plt\n",
        "import tifffile as tif \n",
        "#import corine as cor\n",
        "from tqdm import tqdm\n",
        "import os\n",
        "import pandas as pd \n",
        "import difflib\n",
        "import random\n"
      ],
      "execution_count": 7,
      "outputs": []
    },
    {
      "cell_type": "code",
      "metadata": {
        "id": "NURFUM4ZsfI8"
      },
      "source": [
        "import zipfile"
      ],
      "execution_count": 8,
      "outputs": []
    },
    {
      "cell_type": "markdown",
      "metadata": {
        "id": "5ERd0l2Y_Pkz",
        "papermill": {
          "duration": 0.018106,
          "end_time": "2021-02-17T14:20:59.439384",
          "exception": false,
          "start_time": "2021-02-17T14:20:59.421278",
          "status": "completed"
        },
        "tags": []
      },
      "source": [
        "# Declare functions"
      ]
    },
    {
      "cell_type": "code",
      "metadata": {
        "execution": {
          "iopub.execute_input": "2021-02-17T14:20:59.483079Z",
          "iopub.status.busy": "2021-02-17T14:20:59.482281Z",
          "iopub.status.idle": "2021-02-17T14:20:59.486131Z",
          "shell.execute_reply": "2021-02-17T14:20:59.485452Z"
        },
        "id": "zBsCK7Vz_Pkz",
        "papermill": {
          "duration": 0.028055,
          "end_time": "2021-02-17T14:20:59.486251",
          "exception": false,
          "start_time": "2021-02-17T14:20:59.458196",
          "status": "completed"
        },
        "tags": []
      },
      "source": [
        "#create a folder if it doesnt already exist\n",
        "def create_folder(path):\n",
        "    \n",
        "    exists =  os.path.exists(path) #check if the folder exists\n",
        "    \n",
        "    if exists == False:\n",
        "        \n",
        "        os.mkdir(path) #create the folder if it doesnt exist\n",
        "        "
      ],
      "execution_count": 9,
      "outputs": []
    },
    {
      "cell_type": "code",
      "metadata": {
        "execution": {
          "iopub.execute_input": "2021-02-17T14:20:59.531217Z",
          "iopub.status.busy": "2021-02-17T14:20:59.530254Z",
          "iopub.status.idle": "2021-02-17T14:20:59.534276Z",
          "shell.execute_reply": "2021-02-17T14:20:59.533627Z"
        },
        "id": "_uVh0DUT_Pkz",
        "papermill": {
          "duration": 0.029292,
          "end_time": "2021-02-17T14:20:59.534388",
          "exception": false,
          "start_time": "2021-02-17T14:20:59.505096",
          "status": "completed"
        },
        "tags": []
      },
      "source": [
        "def listlines(fn,path):\n",
        "    with open(os.path.join(path,fn),'r') as txtfile:\n",
        "        lines = txtfile.readlines()\n",
        "        savedlabels=[line.replace('\\n','') for line in lines]\n",
        "    return savedlabels"
      ],
      "execution_count": 10,
      "outputs": []
    },
    {
      "cell_type": "code",
      "metadata": {
        "execution": {
          "iopub.execute_input": "2021-02-17T14:20:59.581448Z",
          "iopub.status.busy": "2021-02-17T14:20:59.580785Z",
          "iopub.status.idle": "2021-02-17T14:20:59.584256Z",
          "shell.execute_reply": "2021-02-17T14:20:59.583638Z"
        },
        "id": "NV1OlPCj_Pk0",
        "papermill": {
          "duration": 0.031221,
          "end_time": "2021-02-17T14:20:59.584381",
          "exception": false,
          "start_time": "2021-02-17T14:20:59.553160",
          "status": "completed"
        },
        "tags": []
      },
      "source": [
        "def cover_classes(path):\n",
        "    \"\"\"path = directory containing the text files which contain info on which\n",
        "          tertiary corine labels belong to which desired classes\n",
        "\n",
        "   Returns: dictionary with N lists defining which tertiary corine labels belong \n",
        "            to which to which desired classes (N is the number of desired classes)\n",
        "    \n",
        "    \"\"\"\n",
        "    txt_files = os.listdir(path)\n",
        "    col=[o.replace('.txt','').lower() for o in txt_files if o.endswith('.txt')]\n",
        "    data=[listlines(t,path) for t in txt_files if t.endswith('.txt')]\n",
        "    cover_dict={}\n",
        "    for i,_ in enumerate(col):\n",
        "        cover_dict[col[i]]=data[i]\n",
        "    return(cover_dict)"
      ],
      "execution_count": 11,
      "outputs": []
    },
    {
      "cell_type": "code",
      "metadata": {
        "execution": {
          "iopub.execute_input": "2021-02-17T14:20:59.632307Z",
          "iopub.status.busy": "2021-02-17T14:20:59.631610Z",
          "iopub.status.idle": "2021-02-17T14:20:59.635394Z",
          "shell.execute_reply": "2021-02-17T14:20:59.634720Z"
        },
        "id": "2QIGKqxw_Pk0",
        "papermill": {
          "duration": 0.031962,
          "end_time": "2021-02-17T14:20:59.635517",
          "exception": false,
          "start_time": "2021-02-17T14:20:59.603555",
          "status": "completed"
        },
        "tags": []
      },
      "source": [
        "def label_anyclass(labelss,dictionary):\n",
        "        \"\"\"labells = tertiary labels for a particular sentinel-2 segment from bigearthnet \n",
        "    \n",
        "       dictionary = dictionary containing info about which tertiary labels belong to which \n",
        "                    desired class, obtained using cover_classes() function above\n",
        "        \n",
        "       Returns: dictionary with N lists defining which tertiary corine labels belong \n",
        "                to  which desired classes (N is the number of desired classes)\n",
        "    \n",
        "        \"\"\"\n",
        "        \n",
        "        for i,na in enumerate(labelss):\n",
        "            for key, value in dictionary.items():\n",
        "                if len(difflib.get_close_matches(na,value,n=1,cutoff=0.8))>0:\n",
        "                    c=difflib.get_close_matches(na,value,n=1,cutoff=0.8)[0]\n",
        "                    if c.capitalize().startswith(na.capitalize()[0]):\n",
        "                   # if difflib.get_close_matches(na,value,n=1,cutoff=0.8)[0]\n",
        "                        labelss[i]=key\n",
        "        return labelss"
      ],
      "execution_count": 12,
      "outputs": []
    },
    {
      "cell_type": "code",
      "metadata": {
        "execution": {
          "iopub.execute_input": "2021-02-17T14:20:59.688337Z",
          "iopub.status.busy": "2021-02-17T14:20:59.687639Z",
          "iopub.status.idle": "2021-02-17T14:20:59.690933Z",
          "shell.execute_reply": "2021-02-17T14:20:59.690258Z"
        },
        "id": "r97z_pEo_Pk0",
        "papermill": {
          "duration": 0.035969,
          "end_time": "2021-02-17T14:20:59.691048",
          "exception": false,
          "start_time": "2021-02-17T14:20:59.655079",
          "status": "completed"
        },
        "tags": []
      },
      "source": [
        "def convertion_dataframe(legend_file,cover_definition_dir):\n",
        "    \"\"\" \n",
        "    legend_file = file containing the legend and the color of the corine labels\n",
        "    for example'/kaggle/input/corine2018/u2018_clc2018_v2020_20u1_raster100m/Legend/CLC2018_CLC2018_V2018_20_QGIS.txt'\n",
        "    \n",
        "    cover_definition_dir=  directory containing the text files which contain info on which\n",
        "          tertiary corine labels belong to which desired classes\n",
        "          \n",
        "    returns df a dataframe containing the tertiary labels values and the corresponding new labels and value\n",
        "    \"\"\"\n",
        "    \n",
        "    file=open(legend_file,'r')\n",
        "    content=file.readlines()\n",
        "    file.close()\n",
        "    values=[]\n",
        "    names=[]\n",
        "    for i,c in enumerate(content):\n",
        "        names.append(c.split(',')[5].strip())\n",
        "        values.append(i+1)\n",
        "    # with indices and columns specified \n",
        "    df = pd.DataFrame(list(zip(names, values)), \n",
        "                   columns =['Name', 'value'])\n",
        "    \n",
        "    main_labels=[o.replace('.txt','').lower() for o in np.sort(os.listdir(cover_definition_dir)) if o.endswith('.txt')] \n",
        "    classes=cover_classes(cover_definition_dir)\n",
        "    \n",
        "    df['newlabels']=label_anyclass(names,classes)\n",
        "    newvalues=np.zeros(len(df['value']))\n",
        "    i=1\n",
        "    for l in main_labels:\n",
        "        if 'no data' not in l:\n",
        "            newvalues[df['newlabels']==l]=int(i)\n",
        "            i=i+1\n",
        "    df['newvalues']=newvalues\n",
        "    return df\n",
        "    "
      ],
      "execution_count": 13,
      "outputs": []
    },
    {
      "cell_type": "code",
      "metadata": {
        "execution": {
          "iopub.execute_input": "2021-02-17T14:20:59.740399Z",
          "iopub.status.busy": "2021-02-17T14:20:59.739728Z",
          "iopub.status.idle": "2021-02-17T14:20:59.743106Z",
          "shell.execute_reply": "2021-02-17T14:20:59.742536Z"
        },
        "id": "Z7PPu-Ld_Pk1",
        "papermill": {
          "duration": 0.032694,
          "end_time": "2021-02-17T14:20:59.743231",
          "exception": false,
          "start_time": "2021-02-17T14:20:59.710537",
          "status": "completed"
        },
        "tags": []
      },
      "source": [
        "def convert_corine_new_labels(cpath,df):\n",
        "    \"\"\"\n",
        "    cpath=corine file path\n",
        "    \n",
        "    df= the conversion dataframe obtained with convertion_dataframe \n",
        "    \n",
        "    returns newimages the array with the desired labels \n",
        "    \"\"\"\n",
        "    corine = tif.imread(cpath)\n",
        "    numbers,indices = np.unique(corine,return_inverse=True)\n",
        "    newnumbers=numbers*0+1\n",
        "    for _,row in df.iterrows():\n",
        "        newnumbers[numbers==row['value']]=row['newvalues']-1\n",
        "        if row['Name']=='Sea and ocean':\n",
        "            newnumbers[(numbers>44)] =row['newvalues']-1 \n",
        "            newnumbers[(numbers==0)] =row['newvalues']-1\n",
        "    \n",
        "    \n",
        "    newimages = newnumbers[indices].reshape(corine.shape)#reshape the data to original image dimensions\n",
        "    \n",
        "    return newimages"
      ],
      "execution_count": 14,
      "outputs": []
    },
    {
      "cell_type": "code",
      "metadata": {
        "execution": {
          "iopub.execute_input": "2021-02-17T14:20:59.789118Z",
          "iopub.status.busy": "2021-02-17T14:20:59.788440Z",
          "iopub.status.idle": "2021-02-17T14:20:59.791714Z",
          "shell.execute_reply": "2021-02-17T14:20:59.791025Z"
        },
        "id": "6vhH1G_l_Pk2",
        "papermill": {
          "duration": 0.027926,
          "end_time": "2021-02-17T14:20:59.791833",
          "exception": false,
          "start_time": "2021-02-17T14:20:59.763907",
          "status": "completed"
        },
        "tags": []
      },
      "source": [
        "# Function returns the N largest element \n",
        "def Nmaxelements(list1, N): \n",
        "    list2=np.sort(list1)\n",
        "    return list2[-N]"
      ],
      "execution_count": 15,
      "outputs": []
    },
    {
      "cell_type": "code",
      "metadata": {
        "execution": {
          "iopub.execute_input": "2021-02-17T14:20:59.837362Z",
          "iopub.status.busy": "2021-02-17T14:20:59.836264Z",
          "iopub.status.idle": "2021-02-17T14:20:59.840228Z",
          "shell.execute_reply": "2021-02-17T14:20:59.839538Z"
        },
        "id": "sotA3GXO_Pk2",
        "papermill": {
          "duration": 0.028937,
          "end_time": "2021-02-17T14:20:59.840339",
          "exception": false,
          "start_time": "2021-02-17T14:20:59.811402",
          "status": "completed"
        },
        "tags": []
      },
      "source": [
        "# Function returns the N smallest element \n",
        "def Nminelements(list1, N): \n",
        "    list2=np.sort(list1)     \n",
        "    return list2[N]"
      ],
      "execution_count": 16,
      "outputs": []
    },
    {
      "cell_type": "code",
      "metadata": {
        "execution": {
          "iopub.execute_input": "2021-02-17T14:20:59.891251Z",
          "iopub.status.busy": "2021-02-17T14:20:59.890524Z",
          "iopub.status.idle": "2021-02-17T14:20:59.893467Z",
          "shell.execute_reply": "2021-02-17T14:20:59.892957Z"
        },
        "id": "rUYl9uoa_Pk2",
        "papermill": {
          "duration": 0.033594,
          "end_time": "2021-02-17T14:20:59.893597",
          "exception": false,
          "start_time": "2021-02-17T14:20:59.860003",
          "status": "completed"
        },
        "tags": []
      },
      "source": [
        "def Create_kaggle_dataset(dirname,datasetslug,datasetTitle,ownername,vnotes):\n",
        "    \"dirname: the directory you want to upload in Kaggle\"\n",
        "    # initialize dataset create the json metadata\n",
        "    api.dataset_initialize(dirname)\n",
        "    #Open the metadafile and extract the text(content)\n",
        "    f=open(os.path.join(dirname,'dataset-metadata.json'),'r')\n",
        "    contents=f.readlines()\n",
        "    f.close()\n",
        "    # overwrite the title and the slug in the text(content) and creates a new text (newcontent)\n",
        "    newcontents=[]\n",
        "    for c in contents:\n",
        "        if 'INSERT_SLUG_HERE' in c:\n",
        "            c=c.replace('INSERT_SLUG_HERE',datasetslug)\n",
        "        if 'INSERT_TITLE_HERE' in c:\n",
        "            c=c.replace('INSERT_TITLE_HERE',datasetTitle)\n",
        "        newcontents.append(c)\n",
        "    # Writes the new text (newcontent) in the metadata file\n",
        "    f = open(os.path.join(dirname,'dataset-metadata.json'),'w')\n",
        "    for n in newcontents:\n",
        "        f.write(n)\n",
        "    f.close()\n",
        "    if api.dataset_status(ownername+'/'+datasetslug)=='ready':\n",
        "        api.dataset_create_version(dirname,version_notes=vnotes,dir_mode='zip')\n",
        "    else:\n",
        "        api.dataset_create_new(dirname,dir_mode='zip')"
      ],
      "execution_count": 17,
      "outputs": []
    },
    {
      "cell_type": "code",
      "metadata": {
        "execution": {
          "iopub.execute_input": "2021-02-17T14:20:59.991887Z",
          "iopub.status.busy": "2021-02-17T14:20:59.986673Z",
          "iopub.status.idle": "2021-02-17T14:20:59.995181Z",
          "shell.execute_reply": "2021-02-17T14:20:59.994493Z"
        },
        "id": "NBzpNA1B_Pk3",
        "papermill": {
          "duration": 0.042328,
          "end_time": "2021-02-17T14:20:59.995297",
          "exception": false,
          "start_time": "2021-02-17T14:20:59.952969",
          "status": "completed"
        },
        "tags": []
      },
      "source": [
        "def selecttrainingtile(dft,tilen,nfpt):\n",
        "    #Check number of  cover contained in each 120x120 image\n",
        "    covernumbers=[len(l) for l in dft.corine[dft.tile==tilen]]\n",
        "    tilefname=[l for l in dft.sentinel[dft.tile==tilen]]\n",
        "    \"\"\"\n",
        "    To ensure variety of covers half of the nfpt file will contain the largest cover number and the other half the lowest cover number \n",
        "    Nmaxelements find the number of cover of nfpt/2 images with the largest number of cover and the minimum number of cover in this list \n",
        "    Nminelements find the number of cover of nfpt/2 images with the lowest number of cover and the maximum number of cover in this list\n",
        "    \"\"\"\n",
        "    minUmax=Nmaxelements(covernumbers, int(nfpt/2))\n",
        "    maxUmin=Nminelements(covernumbers, int(nfpt/2))\n",
        "    \n",
        "    if minUmax==maxUmin:\n",
        "        print('1')\n",
        "        listminUmax=list(np.where(np.array(covernumbers)==minUmax)[0])\n",
        "        savelist=random.sample(listminUmax,nfpt)\n",
        "    else:\n",
        "        #select files in the maximums\n",
        "        if np.max(covernumbers)==minUmax:\n",
        "            listminUmax=list(np.where(np.array(covernumbers)==minUmax)[0])\n",
        "            savelistmax=random.sample(listminUmax,int(nfpt/2))\n",
        "        else:\n",
        "            savelistmax=np.where(np.array(covernumbers)>minUmax)[0]\n",
        "            listminUmax=list(np.where(np.array(covernumbers)==minUmax)[0])\n",
        "            savelistmax=np.hstack((savelistmax,random.sample(listminUmax,int(nfpt/2)-len(savelistmax))))\n",
        "\n",
        "        # select files in the minmums    \n",
        "        if np.min(covernumbers)==maxUmin:\n",
        "            listmaxUmin=list(np.where(np.array(covernumbers)==maxUmin)[0])\n",
        "            savelistmin=random.sample(listmaxUmin,int(nfpt/2))\n",
        "        else:\n",
        "            savelistmin=np.where(np.array(covernumbers)<maxUmin)[0]\n",
        "            listmaxUmin=list(np.where(np.array(covernumbers)==maxUmin)[0])\n",
        "            savelistmin=np.hstack((savelistmin,random.sample(listmaxUmin,int(nfpt/2)-len(savelistmin))))\n",
        "\n",
        "        savelist=np.hstack((savelistmax,savelistmin))\n",
        "    \n",
        "    training_files=[tilefname[sl] for sl in savelist]\n",
        "    return training_files"
      ],
      "execution_count": 18,
      "outputs": []
    },
    {
      "cell_type": "markdown",
      "metadata": {
        "id": "UIHE04G1_Pk3",
        "papermill": {
          "duration": 0.01955,
          "end_time": "2021-02-17T14:20:59.933158",
          "exception": false,
          "start_time": "2021-02-17T14:20:59.913608",
          "status": "completed"
        },
        "tags": []
      },
      "source": [
        "# MAIN"
      ]
    },
    {
      "cell_type": "markdown",
      "metadata": {
        "id": "EuCqUO-7_Pk3",
        "papermill": {
          "duration": 0.019668,
          "end_time": "2021-02-17T14:21:00.035042",
          "exception": false,
          "start_time": "2021-02-17T14:21:00.015374",
          "status": "completed"
        },
        "tags": []
      },
      "source": [
        "## Define conversion dataframe"
      ]
    },
    {
      "cell_type": "code",
      "metadata": {
        "execution": {
          "iopub.execute_input": "2021-02-17T14:21:00.129199Z",
          "iopub.status.busy": "2021-02-17T14:21:00.128502Z",
          "iopub.status.idle": "2021-02-17T14:21:00.925964Z",
          "shell.execute_reply": "2021-02-17T14:21:00.925320Z"
        },
        "id": "XukjRiND_Pk4",
        "papermill": {
          "duration": 0.822123,
          "end_time": "2021-02-17T14:21:00.926128",
          "exception": false,
          "start_time": "2021-02-17T14:21:00.104005",
          "status": "completed"
        },
        "tags": []
      },
      "source": [
        "df=convertion_dataframe(CORINEtxtfile,cover_definition_directory)"
      ],
      "execution_count": 19,
      "outputs": []
    },
    {
      "cell_type": "code",
      "metadata": {
        "colab": {
          "base_uri": "https://localhost:8080/",
          "height": 1000
        },
        "execution": {
          "iopub.execute_input": "2021-02-17T14:21:00.981089Z",
          "iopub.status.busy": "2021-02-17T14:21:00.980258Z",
          "iopub.status.idle": "2021-02-17T14:21:01.003444Z",
          "shell.execute_reply": "2021-02-17T14:21:01.002748Z"
        },
        "id": "W6jv-G5G_Pk4",
        "papermill": {
          "duration": 0.05577,
          "end_time": "2021-02-17T14:21:01.003591",
          "exception": false,
          "start_time": "2021-02-17T14:21:00.947821",
          "status": "completed"
        },
        "tags": [],
        "outputId": "e990ca1b-79ea-4558-8491-25705dadc5f4"
      },
      "source": [
        "df"
      ],
      "execution_count": 20,
      "outputs": [
        {
          "output_type": "execute_result",
          "data": {
            "text/html": [
              "<div>\n",
              "<style scoped>\n",
              "    .dataframe tbody tr th:only-of-type {\n",
              "        vertical-align: middle;\n",
              "    }\n",
              "\n",
              "    .dataframe tbody tr th {\n",
              "        vertical-align: top;\n",
              "    }\n",
              "\n",
              "    .dataframe thead th {\n",
              "        text-align: right;\n",
              "    }\n",
              "</style>\n",
              "<table border=\"1\" class=\"dataframe\">\n",
              "  <thead>\n",
              "    <tr style=\"text-align: right;\">\n",
              "      <th></th>\n",
              "      <th>Name</th>\n",
              "      <th>value</th>\n",
              "      <th>newlabels</th>\n",
              "      <th>newvalues</th>\n",
              "    </tr>\n",
              "  </thead>\n",
              "  <tbody>\n",
              "    <tr>\n",
              "      <th>0</th>\n",
              "      <td>Continuous urban fabric</td>\n",
              "      <td>1</td>\n",
              "      <td>continuous urban fabric</td>\n",
              "      <td>12.0</td>\n",
              "    </tr>\n",
              "    <tr>\n",
              "      <th>1</th>\n",
              "      <td>Discontinuous urban fabric</td>\n",
              "      <td>2</td>\n",
              "      <td>discontinuous urban fabric</td>\n",
              "      <td>13.0</td>\n",
              "    </tr>\n",
              "    <tr>\n",
              "      <th>2</th>\n",
              "      <td>Industrial or commercial units</td>\n",
              "      <td>3</td>\n",
              "      <td>industrial or commercial units</td>\n",
              "      <td>19.0</td>\n",
              "    </tr>\n",
              "    <tr>\n",
              "      <th>3</th>\n",
              "      <td>Road and rail networks and associated land</td>\n",
              "      <td>4</td>\n",
              "      <td>road and rail networks and associated land</td>\n",
              "      <td>34.0</td>\n",
              "    </tr>\n",
              "    <tr>\n",
              "      <th>4</th>\n",
              "      <td>Port areas</td>\n",
              "      <td>5</td>\n",
              "      <td>port areas</td>\n",
              "      <td>32.0</td>\n",
              "    </tr>\n",
              "    <tr>\n",
              "      <th>5</th>\n",
              "      <td>Airports</td>\n",
              "      <td>6</td>\n",
              "      <td>airports</td>\n",
              "      <td>2.0</td>\n",
              "    </tr>\n",
              "    <tr>\n",
              "      <th>6</th>\n",
              "      <td>Mineral extraction sites</td>\n",
              "      <td>7</td>\n",
              "      <td>mineral extraction sites</td>\n",
              "      <td>23.0</td>\n",
              "    </tr>\n",
              "    <tr>\n",
              "      <th>7</th>\n",
              "      <td>Dump sites</td>\n",
              "      <td>8</td>\n",
              "      <td>dump sites</td>\n",
              "      <td>14.0</td>\n",
              "    </tr>\n",
              "    <tr>\n",
              "      <th>8</th>\n",
              "      <td>Construction sites</td>\n",
              "      <td>9</td>\n",
              "      <td>construction sites</td>\n",
              "      <td>11.0</td>\n",
              "    </tr>\n",
              "    <tr>\n",
              "      <th>9</th>\n",
              "      <td>Green urban areas</td>\n",
              "      <td>10</td>\n",
              "      <td>green urban areas</td>\n",
              "      <td>18.0</td>\n",
              "    </tr>\n",
              "    <tr>\n",
              "      <th>10</th>\n",
              "      <td>Sport and leisure facilities</td>\n",
              "      <td>11</td>\n",
              "      <td>sport and leisure facilities</td>\n",
              "      <td>40.0</td>\n",
              "    </tr>\n",
              "    <tr>\n",
              "      <th>11</th>\n",
              "      <td>Non-irrigated arable land</td>\n",
              "      <td>12</td>\n",
              "      <td>non-irrigated arable land</td>\n",
              "      <td>27.0</td>\n",
              "    </tr>\n",
              "    <tr>\n",
              "      <th>12</th>\n",
              "      <td>Permanently irrigated land</td>\n",
              "      <td>13</td>\n",
              "      <td>permanently irrigated land</td>\n",
              "      <td>31.0</td>\n",
              "    </tr>\n",
              "    <tr>\n",
              "      <th>13</th>\n",
              "      <td>Rice fields</td>\n",
              "      <td>14</td>\n",
              "      <td>rice fields</td>\n",
              "      <td>33.0</td>\n",
              "    </tr>\n",
              "    <tr>\n",
              "      <th>14</th>\n",
              "      <td>Vineyards</td>\n",
              "      <td>15</td>\n",
              "      <td>vineyards</td>\n",
              "      <td>42.0</td>\n",
              "    </tr>\n",
              "    <tr>\n",
              "      <th>15</th>\n",
              "      <td>Fruit trees and berry plantations</td>\n",
              "      <td>16</td>\n",
              "      <td>fruit trees and berry plantations</td>\n",
              "      <td>16.0</td>\n",
              "    </tr>\n",
              "    <tr>\n",
              "      <th>16</th>\n",
              "      <td>Olive groves</td>\n",
              "      <td>17</td>\n",
              "      <td>olive groves</td>\n",
              "      <td>28.0</td>\n",
              "    </tr>\n",
              "    <tr>\n",
              "      <th>17</th>\n",
              "      <td>Pastures</td>\n",
              "      <td>18</td>\n",
              "      <td>pastures</td>\n",
              "      <td>29.0</td>\n",
              "    </tr>\n",
              "    <tr>\n",
              "      <th>18</th>\n",
              "      <td>Annual crops associated with permanent crops</td>\n",
              "      <td>19</td>\n",
              "      <td>annual crops associated with permanent crops</td>\n",
              "      <td>3.0</td>\n",
              "    </tr>\n",
              "    <tr>\n",
              "      <th>19</th>\n",
              "      <td>Complex cultivation patterns</td>\n",
              "      <td>20</td>\n",
              "      <td>complex cultivation patterns</td>\n",
              "      <td>9.0</td>\n",
              "    </tr>\n",
              "    <tr>\n",
              "      <th>20</th>\n",
              "      <td>Land principally occupied by agriculture with ...</td>\n",
              "      <td>21</td>\n",
              "      <td>land principally occupied by agriculture with ...</td>\n",
              "      <td>22.0</td>\n",
              "    </tr>\n",
              "    <tr>\n",
              "      <th>21</th>\n",
              "      <td>Agro-forestry areas</td>\n",
              "      <td>22</td>\n",
              "      <td>agro-forestry areas</td>\n",
              "      <td>1.0</td>\n",
              "    </tr>\n",
              "    <tr>\n",
              "      <th>22</th>\n",
              "      <td>Broad-leaved forest</td>\n",
              "      <td>23</td>\n",
              "      <td>broad-leaved forest</td>\n",
              "      <td>6.0</td>\n",
              "    </tr>\n",
              "    <tr>\n",
              "      <th>23</th>\n",
              "      <td>Coniferous forest</td>\n",
              "      <td>24</td>\n",
              "      <td>coniferous forest</td>\n",
              "      <td>10.0</td>\n",
              "    </tr>\n",
              "    <tr>\n",
              "      <th>24</th>\n",
              "      <td>Mixed forest</td>\n",
              "      <td>25</td>\n",
              "      <td>mixed forest</td>\n",
              "      <td>24.0</td>\n",
              "    </tr>\n",
              "    <tr>\n",
              "      <th>25</th>\n",
              "      <td>Natural grasslands</td>\n",
              "      <td>26</td>\n",
              "      <td>natural grasslands</td>\n",
              "      <td>26.0</td>\n",
              "    </tr>\n",
              "    <tr>\n",
              "      <th>26</th>\n",
              "      <td>Moors and heathland</td>\n",
              "      <td>27</td>\n",
              "      <td>moors and heathland</td>\n",
              "      <td>25.0</td>\n",
              "    </tr>\n",
              "    <tr>\n",
              "      <th>27</th>\n",
              "      <td>Sclerophyllous vegetation</td>\n",
              "      <td>28</td>\n",
              "      <td>sclerophyllous vegetation</td>\n",
              "      <td>37.0</td>\n",
              "    </tr>\n",
              "    <tr>\n",
              "      <th>28</th>\n",
              "      <td>Transitional woodland-shrub</td>\n",
              "      <td>29</td>\n",
              "      <td>transitional woodland_shrub</td>\n",
              "      <td>41.0</td>\n",
              "    </tr>\n",
              "    <tr>\n",
              "      <th>29</th>\n",
              "      <td>Beaches dunes sands</td>\n",
              "      <td>30</td>\n",
              "      <td>beaches_dunes_sands</td>\n",
              "      <td>5.0</td>\n",
              "    </tr>\n",
              "    <tr>\n",
              "      <th>30</th>\n",
              "      <td>Bare rocks</td>\n",
              "      <td>31</td>\n",
              "      <td>bare rocks</td>\n",
              "      <td>4.0</td>\n",
              "    </tr>\n",
              "    <tr>\n",
              "      <th>31</th>\n",
              "      <td>Sparsely vegetated areas</td>\n",
              "      <td>32</td>\n",
              "      <td>sparsely vegetated areas</td>\n",
              "      <td>39.0</td>\n",
              "    </tr>\n",
              "    <tr>\n",
              "      <th>32</th>\n",
              "      <td>Burnt areas</td>\n",
              "      <td>33</td>\n",
              "      <td>burnt areas</td>\n",
              "      <td>7.0</td>\n",
              "    </tr>\n",
              "    <tr>\n",
              "      <th>33</th>\n",
              "      <td>Glaciers and perpetual snow</td>\n",
              "      <td>34</td>\n",
              "      <td>glaciers and perpetual snow</td>\n",
              "      <td>17.0</td>\n",
              "    </tr>\n",
              "    <tr>\n",
              "      <th>34</th>\n",
              "      <td>Inland marshes</td>\n",
              "      <td>35</td>\n",
              "      <td>inland marshes</td>\n",
              "      <td>20.0</td>\n",
              "    </tr>\n",
              "    <tr>\n",
              "      <th>35</th>\n",
              "      <td>Peat bogs</td>\n",
              "      <td>36</td>\n",
              "      <td>peat bogs</td>\n",
              "      <td>30.0</td>\n",
              "    </tr>\n",
              "    <tr>\n",
              "      <th>36</th>\n",
              "      <td>Salt marshes</td>\n",
              "      <td>37</td>\n",
              "      <td>salt marshes</td>\n",
              "      <td>36.0</td>\n",
              "    </tr>\n",
              "    <tr>\n",
              "      <th>37</th>\n",
              "      <td>Salines</td>\n",
              "      <td>38</td>\n",
              "      <td>salines</td>\n",
              "      <td>35.0</td>\n",
              "    </tr>\n",
              "    <tr>\n",
              "      <th>38</th>\n",
              "      <td>Intertidal flats</td>\n",
              "      <td>39</td>\n",
              "      <td>intertidal flats</td>\n",
              "      <td>21.0</td>\n",
              "    </tr>\n",
              "    <tr>\n",
              "      <th>39</th>\n",
              "      <td>Water courses</td>\n",
              "      <td>40</td>\n",
              "      <td>water courses</td>\n",
              "      <td>44.0</td>\n",
              "    </tr>\n",
              "    <tr>\n",
              "      <th>40</th>\n",
              "      <td>Water bodies</td>\n",
              "      <td>41</td>\n",
              "      <td>water bodies</td>\n",
              "      <td>43.0</td>\n",
              "    </tr>\n",
              "    <tr>\n",
              "      <th>41</th>\n",
              "      <td>Coastal lagoons</td>\n",
              "      <td>42</td>\n",
              "      <td>coastal lagoons</td>\n",
              "      <td>8.0</td>\n",
              "    </tr>\n",
              "    <tr>\n",
              "      <th>42</th>\n",
              "      <td>Estuaries</td>\n",
              "      <td>43</td>\n",
              "      <td>estuaries</td>\n",
              "      <td>15.0</td>\n",
              "    </tr>\n",
              "    <tr>\n",
              "      <th>43</th>\n",
              "      <td>Sea and ocean</td>\n",
              "      <td>44</td>\n",
              "      <td>sea and ocean</td>\n",
              "      <td>38.0</td>\n",
              "    </tr>\n",
              "    <tr>\n",
              "      <th>44</th>\n",
              "      <td>NODATA</td>\n",
              "      <td>45</td>\n",
              "      <td>no data</td>\n",
              "      <td>0.0</td>\n",
              "    </tr>\n",
              "  </tbody>\n",
              "</table>\n",
              "</div>"
            ],
            "text/plain": [
              "                                                 Name  ...  newvalues\n",
              "0                             Continuous urban fabric  ...       12.0\n",
              "1                          Discontinuous urban fabric  ...       13.0\n",
              "2                      Industrial or commercial units  ...       19.0\n",
              "3          Road and rail networks and associated land  ...       34.0\n",
              "4                                          Port areas  ...       32.0\n",
              "5                                            Airports  ...        2.0\n",
              "6                            Mineral extraction sites  ...       23.0\n",
              "7                                          Dump sites  ...       14.0\n",
              "8                                  Construction sites  ...       11.0\n",
              "9                                   Green urban areas  ...       18.0\n",
              "10                       Sport and leisure facilities  ...       40.0\n",
              "11                          Non-irrigated arable land  ...       27.0\n",
              "12                         Permanently irrigated land  ...       31.0\n",
              "13                                        Rice fields  ...       33.0\n",
              "14                                          Vineyards  ...       42.0\n",
              "15                  Fruit trees and berry plantations  ...       16.0\n",
              "16                                       Olive groves  ...       28.0\n",
              "17                                           Pastures  ...       29.0\n",
              "18       Annual crops associated with permanent crops  ...        3.0\n",
              "19                       Complex cultivation patterns  ...        9.0\n",
              "20  Land principally occupied by agriculture with ...  ...       22.0\n",
              "21                                Agro-forestry areas  ...        1.0\n",
              "22                                Broad-leaved forest  ...        6.0\n",
              "23                                  Coniferous forest  ...       10.0\n",
              "24                                       Mixed forest  ...       24.0\n",
              "25                                 Natural grasslands  ...       26.0\n",
              "26                                Moors and heathland  ...       25.0\n",
              "27                          Sclerophyllous vegetation  ...       37.0\n",
              "28                        Transitional woodland-shrub  ...       41.0\n",
              "29                                Beaches dunes sands  ...        5.0\n",
              "30                                         Bare rocks  ...        4.0\n",
              "31                           Sparsely vegetated areas  ...       39.0\n",
              "32                                        Burnt areas  ...        7.0\n",
              "33                        Glaciers and perpetual snow  ...       17.0\n",
              "34                                     Inland marshes  ...       20.0\n",
              "35                                          Peat bogs  ...       30.0\n",
              "36                                       Salt marshes  ...       36.0\n",
              "37                                            Salines  ...       35.0\n",
              "38                                   Intertidal flats  ...       21.0\n",
              "39                                      Water courses  ...       44.0\n",
              "40                                       Water bodies  ...       43.0\n",
              "41                                    Coastal lagoons  ...        8.0\n",
              "42                                          Estuaries  ...       15.0\n",
              "43                                      Sea and ocean  ...       38.0\n",
              "44                                             NODATA  ...        0.0\n",
              "\n",
              "[45 rows x 4 columns]"
            ]
          },
          "metadata": {
            "tags": []
          },
          "execution_count": 20
        }
      ]
    },
    {
      "cell_type": "markdown",
      "metadata": {
        "id": "EQx4nW6g_Pk4",
        "papermill": {
          "duration": 0.021333,
          "end_time": "2021-02-17T14:21:01.047188",
          "exception": false,
          "start_time": "2021-02-17T14:21:01.025855",
          "status": "completed"
        },
        "tags": []
      },
      "source": [
        "## Define tiles path"
      ]
    },
    {
      "cell_type": "code",
      "metadata": {
        "execution": {
          "iopub.execute_input": "2021-02-17T14:21:01.097788Z",
          "iopub.status.busy": "2021-02-17T14:21:01.096950Z",
          "iopub.status.idle": "2021-02-17T14:21:01.152302Z",
          "shell.execute_reply": "2021-02-17T14:21:01.151532Z"
        },
        "id": "t0e7M5Cx_Pk4",
        "papermill": {
          "duration": 0.083408,
          "end_time": "2021-02-17T14:21:01.152432",
          "exception": false,
          "start_time": "2021-02-17T14:21:01.069024",
          "status": "completed"
        },
        "tags": []
      },
      "source": [
        "#corine path\n",
        "corine_files=[os.path.join(corine_path,o) for o in os.listdir(corine_path) if o.startswith('corine')]\n",
        "tiles=[cf.split('corine')[1][0:5] for cf in corine_files ]"
      ],
      "execution_count": 21,
      "outputs": []
    },
    {
      "cell_type": "markdown",
      "metadata": {
        "id": "d-Ck-kjy_Pk5",
        "papermill": {
          "duration": 0.022098,
          "end_time": "2021-02-17T14:21:01.196466",
          "exception": false,
          "start_time": "2021-02-17T14:21:01.174368",
          "status": "completed"
        },
        "tags": []
      },
      "source": [
        "## Create saving directories "
      ]
    },
    {
      "cell_type": "code",
      "metadata": {
        "execution": {
          "iopub.execute_input": "2021-02-17T14:21:01.246469Z",
          "iopub.status.busy": "2021-02-17T14:21:01.245801Z",
          "iopub.status.idle": "2021-02-17T14:21:01.249715Z",
          "shell.execute_reply": "2021-02-17T14:21:01.249168Z"
        },
        "id": "w13CKMuH_Pk5",
        "papermill": {
          "duration": 0.031004,
          "end_time": "2021-02-17T14:21:01.249824",
          "exception": false,
          "start_time": "2021-02-17T14:21:01.218820",
          "status": "completed"
        },
        "tags": []
      },
      "source": [
        "#All data directories\n",
        "create_folder(savedir)\n",
        "create_folder(sentinel_save_path)\n",
        "create_folder(corine_save_path)\n",
        "\n",
        "#Training data directories must contain /kaggle/working to be saved with the directory otherwise needs to create an independant dataset\n",
        "#tr_sentinel_save_path = '/kaggle/working/sentinel'\n",
        "#create_folder(tr_sentinel_save_path)\n",
        "#tr_corine_save_path = '/kaggle/working/corine'\n",
        "#create_folder(tr_corine_save_path)"
      ],
      "execution_count": 22,
      "outputs": []
    },
    {
      "cell_type": "code",
      "metadata": {
        "colab": {
          "base_uri": "https://localhost:8080/"
        },
        "execution": {
          "iopub.execute_input": "2021-02-17T14:21:01.361524Z",
          "iopub.status.busy": "2021-02-17T14:21:01.350601Z",
          "iopub.status.idle": "2021-02-17T14:51:35.519044Z",
          "shell.execute_reply": "2021-02-17T14:51:35.519825Z"
        },
        "id": "tLyyNMne_Pk5",
        "papermill": {
          "duration": 1834.195002,
          "end_time": "2021-02-17T14:51:35.520103",
          "exception": false,
          "start_time": "2021-02-17T14:21:01.325101",
          "status": "completed"
        },
        "tags": [],
        "outputId": "eb5e7db4-2caf-4e36-f0bb-cba44a134d10"
      },
      "source": [
        "imsize=120\n",
        "count = 0 #for saving the segments\n",
        "\n",
        "corine_list = [] #initiate corine list\n",
        "\n",
        "sentinel_list = [] #initiate sentinel list\n",
        "\n",
        "sentinel_tilefn_segment=[] #initiate tile filename segment list\n",
        "\n",
        "tile_list=[]\n",
        "\n",
        "unique_cover_tile=[]\n",
        "\n",
        "mean_segment=[]\n",
        "\n",
        "cover_tile=[]\n",
        "for i,cf in enumerate(corine_files):\n",
        "    #create_folder(os.path.join(corine_save_path,tiles[i]))\n",
        "   # create_folder(os.path.join(sentinel_save_path,tiles[i]))\n",
        "    corine=convert_corine_new_labels(cf,df)\n",
        "    #iterate through the width and length of the sentinel and corine tiles     \n",
        "\n",
        "    sentinel = tif.imread(cf.replace('/corine','/sentinel'))\n",
        "\n",
        "    unique_cover_tile.append(np.unique(corine))\n",
        "    cover_tile.append(tiles[i])\n",
        "    # reshape corine and sentinel to 120x120 images\n",
        "    sentinel120=np.zeros(((int(sentinel.shape[0]/imsize)+1)*imsize,(int(sentinel.shape[0]/imsize)+1)*imsize,sentinel.shape[2]))\n",
        "    sentinel120[0:sentinel.shape[0],0:sentinel.shape[1],:]=sentinel\n",
        "    corine120=np.zeros(((int(sentinel.shape[0]/imsize)+1)*imsize,(int(sentinel.shape[0]/imsize)+1)*imsize))\n",
        "    corine120[0:corine.shape[0],0:corine.shape[1]]=corine\n",
        "    for j in tqdm(range(int(sentinel120.shape[0]/imsize))):\n",
        "\n",
        "        for k in range(int(sentinel120.shape[1]/imsize)):\n",
        "            #sentinel segment   \n",
        "            sentinel_segment = sentinel120[(j*imsize):(j*imsize)+imsize,(k*imsize):(k*imsize)+imsize]\n",
        "\n",
        "            #corine segment\n",
        "            corine_segment = corine120[(j*imsize):(j*imsize)+imsize,(k*imsize):(k*imsize)+imsize]\n",
        "\n",
        "            #remove values greater than 80 (consistent with classifier training)\n",
        "            sentinel_segment = np.where(sentinel_segment>80,np.mean(sentinel_segment),sentinel_segment)\n",
        "\n",
        "            #normalise the sentinel image\n",
        "            sentinel_segment = (sentinel_segment/80).astype('float32')\n",
        "\n",
        "            #save the sentinel segment\n",
        "            plt.imsave(sentinel_save_path + '/'+str(count) + '.png',sentinel_segment)\n",
        "\n",
        "            #save the corine segment\n",
        "            tif.imwrite(corine_save_path + '/'+str(count) + '.tif',corine_segment)\n",
        "            \n",
        "            #average segment_value\n",
        "            mean_segment.append(np.mean(sentinel_segment))\n",
        "\n",
        "            #append sentinel to list\n",
        "            sentinel_list.append(count)\n",
        "\n",
        "            #append corine to list\n",
        "            corine_list.append(np.unique(corine_segment))\n",
        "            \n",
        "            tile_list.append(tiles[i])\n",
        "            \n",
        "            sentinel_tilefn_segment.append('S2'+cf.replace('/corine','/sentinel').split('/sentinel')[1])\n",
        "\n",
        "            #increase the count\n",
        "            count = count + 1\n",
        "\n",
        "#corine_stuff = np.array(corine_list) #turn corine list into numpy array\n",
        "\n",
        "#sentinel_stuff = np.array(sentinel_list) #turn sentinel list into numpy array"
      ],
      "execution_count": null,
      "outputs": [
        {
          "output_type": "stream",
          "text": [
            "100%|██████████| 93/93 [00:36<00:00,  2.55it/s]\n",
            "100%|██████████| 93/93 [00:46<00:00,  1.98it/s]\n",
            "100%|██████████| 93/93 [00:41<00:00,  2.25it/s]\n",
            "100%|██████████| 93/93 [00:58<00:00,  1.60it/s]\n",
            " 46%|████▌     | 43/93 [00:25<00:29,  1.72it/s]"
          ],
          "name": "stderr"
        }
      ]
    },
    {
      "cell_type": "markdown",
      "metadata": {
        "id": "FDJ44tYb_Pk6",
        "papermill": {
          "duration": 1.033555,
          "end_time": "2021-02-17T14:51:37.611204",
          "exception": false,
          "start_time": "2021-02-17T14:51:36.577649",
          "status": "completed"
        },
        "tags": []
      },
      "source": [
        "## Training  files selection"
      ]
    },
    {
      "cell_type": "code",
      "metadata": {
        "execution": {
          "iopub.execute_input": "2021-02-17T14:51:39.900562Z",
          "iopub.status.busy": "2021-02-17T14:51:39.731033Z",
          "iopub.status.idle": "2021-02-17T14:52:00.144690Z",
          "shell.execute_reply": "2021-02-17T14:52:00.143323Z"
        },
        "id": "G1HB7FDr_Pk6",
        "papermill": {
          "duration": 21.469902,
          "end_time": "2021-02-17T14:52:00.144838",
          "exception": false,
          "start_time": "2021-02-17T14:51:38.674936",
          "status": "completed"
        },
        "tags": []
      },
      "source": [
        "#Create dataframe containing the sentinel file number, the corresponding tile name\n",
        "dft = pd.DataFrame(list(zip(sentinel_list, corine_list, tile_list,sentinel_tilefn_segment,mean_segment)), \n",
        "               columns =['sentinel', 'corine', 'tile','sentinel_tile_fn','segment'])\n",
        "\n",
        "csvdftraining = dft.to_csv(os.path.join(savedir,'all_file_details.csv'), index = True)"
      ],
      "execution_count": null,
      "outputs": []
    },
    {
      "cell_type": "code",
      "metadata": {
        "id": "ii8YkfxyCKZA"
      },
      "source": [
        "shutil.make_archive(savefn.split('.zip')[0],'zip',savedir)"
      ],
      "execution_count": null,
      "outputs": []
    },
    {
      "cell_type": "markdown",
      "metadata": {
        "id": "cvyHFZrh_Pk6",
        "papermill": {
          "duration": 1.002975,
          "end_time": "2021-02-17T14:52:02.154141",
          "exception": false,
          "start_time": "2021-02-17T14:52:01.151166",
          "status": "completed"
        },
        "tags": []
      },
      "source": [
        "# Create kaggle dataset"
      ]
    },
    {
      "cell_type": "code",
      "metadata": {
        "execution": {
          "iopub.execute_input": "2021-02-17T14:52:06.254758Z",
          "iopub.status.busy": "2021-02-17T14:52:06.254072Z",
          "iopub.status.idle": "2021-02-17T15:02:19.566437Z",
          "shell.execute_reply": "2021-02-17T15:02:19.565657Z"
        },
        "id": "iAK8rNY9_Pk6",
        "papermill": {
          "duration": 614.320173,
          "end_time": "2021-02-17T15:02:19.566590",
          "exception": false,
          "start_time": "2021-02-17T14:52:05.246417",
          "status": "completed"
        },
        "tags": []
      },
      "source": [
        "if savekaggle==1:\n",
        "  Create_kaggle_dataset(savedir,datasetslug,datasetTitle,ownername,vnotes)"
      ],
      "execution_count": null,
      "outputs": []
    }
  ]
}